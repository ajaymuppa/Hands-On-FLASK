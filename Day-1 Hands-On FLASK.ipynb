{
 "cells": [
  {
   "cell_type": "markdown",
   "id": "e93b1ae3",
   "metadata": {},
   "source": [
    "# Basic"
   ]
  },
  {
   "cell_type": "code",
   "execution_count": 1,
   "id": "bc669f1b",
   "metadata": {},
   "outputs": [
    {
     "name": "stdout",
     "output_type": "stream",
     "text": [
      "Day 1 Basic Python\n"
     ]
    }
   ],
   "source": [
    "print(\"Day 1 Basic Python\")"
   ]
  },
  {
   "cell_type": "markdown",
   "id": "a026123e",
   "metadata": {},
   "source": [
    "# Data Types in Python"
   ]
  },
  {
   "cell_type": "code",
   "execution_count": 2,
   "id": "c504c2c1",
   "metadata": {},
   "outputs": [
    {
     "name": "stdout",
     "output_type": "stream",
     "text": [
      "Type of a:  <class 'int'>\n",
      "\n",
      "Type of b:  <class 'float'>\n",
      "\n",
      "Type of c:  <class 'complex'>\n"
     ]
    }
   ],
   "source": [
    "a = 10 \n",
    "print(\"Type of a: \", type(a))  \n",
    "b = 20.0 \n",
    "print(\"\\nType of b: \", type(b))  \n",
    "c = 5 + 7j \n",
    "print(\"\\nType of c: \", type(c)) "
   ]
  },
  {
   "cell_type": "markdown",
   "id": "62e9c85b",
   "metadata": {},
   "source": [
    "# Comparison Operators"
   ]
  },
  {
   "cell_type": "code",
   "execution_count": 3,
   "id": "bcc243c7",
   "metadata": {},
   "outputs": [],
   "source": [
    "a=20\n",
    "b=30"
   ]
  },
  {
   "cell_type": "code",
   "execution_count": 4,
   "id": "c652d9ec",
   "metadata": {},
   "outputs": [
    {
     "data": {
      "text/plain": [
       "True"
      ]
     },
     "execution_count": 4,
     "metadata": {},
     "output_type": "execute_result"
    }
   ],
   "source": [
    "a<b"
   ]
  },
  {
   "cell_type": "code",
   "execution_count": 5,
   "id": "62a3f5ed",
   "metadata": {},
   "outputs": [
    {
     "data": {
      "text/plain": [
       "True"
      ]
     },
     "execution_count": 5,
     "metadata": {},
     "output_type": "execute_result"
    }
   ],
   "source": [
    "a!=b"
   ]
  },
  {
   "cell_type": "code",
   "execution_count": 6,
   "id": "820ff62e",
   "metadata": {},
   "outputs": [
    {
     "data": {
      "text/plain": [
       "False"
      ]
     },
     "execution_count": 6,
     "metadata": {},
     "output_type": "execute_result"
    }
   ],
   "source": [
    "a==b"
   ]
  },
  {
   "cell_type": "code",
   "execution_count": 7,
   "id": "8b530746",
   "metadata": {},
   "outputs": [
    {
     "data": {
      "text/plain": [
       "True"
      ]
     },
     "execution_count": 7,
     "metadata": {},
     "output_type": "execute_result"
    }
   ],
   "source": [
    "a<=b"
   ]
  },
  {
   "cell_type": "code",
   "execution_count": 8,
   "id": "414fe088",
   "metadata": {},
   "outputs": [
    {
     "data": {
      "text/plain": [
       "False"
      ]
     },
     "execution_count": 8,
     "metadata": {},
     "output_type": "execute_result"
    }
   ],
   "source": [
    "a>=b"
   ]
  },
  {
   "cell_type": "markdown",
   "id": "bbe9a496",
   "metadata": {},
   "source": [
    "# Arthematic Operators"
   ]
  },
  {
   "cell_type": "code",
   "execution_count": 9,
   "id": "12f87f15",
   "metadata": {},
   "outputs": [],
   "source": [
    "a=100\n",
    "b=150"
   ]
  },
  {
   "cell_type": "code",
   "execution_count": 10,
   "id": "e519de0d",
   "metadata": {},
   "outputs": [
    {
     "data": {
      "text/plain": [
       "250"
      ]
     },
     "execution_count": 10,
     "metadata": {},
     "output_type": "execute_result"
    }
   ],
   "source": [
    "a+b"
   ]
  },
  {
   "cell_type": "code",
   "execution_count": 11,
   "id": "cdb9dfd7",
   "metadata": {},
   "outputs": [
    {
     "data": {
      "text/plain": [
       "-50"
      ]
     },
     "execution_count": 11,
     "metadata": {},
     "output_type": "execute_result"
    }
   ],
   "source": [
    "a-b"
   ]
  },
  {
   "cell_type": "code",
   "execution_count": 12,
   "id": "0d6ff9b7",
   "metadata": {},
   "outputs": [
    {
     "data": {
      "text/plain": [
       "15000"
      ]
     },
     "execution_count": 12,
     "metadata": {},
     "output_type": "execute_result"
    }
   ],
   "source": [
    "a*b"
   ]
  },
  {
   "cell_type": "code",
   "execution_count": 13,
   "id": "85852db7",
   "metadata": {},
   "outputs": [
    {
     "data": {
      "text/plain": [
       "0.6666666666666666"
      ]
     },
     "execution_count": 13,
     "metadata": {},
     "output_type": "execute_result"
    }
   ],
   "source": [
    "a/b"
   ]
  },
  {
   "cell_type": "code",
   "execution_count": 14,
   "id": "2c1bc92a",
   "metadata": {},
   "outputs": [
    {
     "data": {
      "text/plain": [
       "0"
      ]
     },
     "execution_count": 14,
     "metadata": {},
     "output_type": "execute_result"
    }
   ],
   "source": [
    "a//b"
   ]
  },
  {
   "cell_type": "code",
   "execution_count": 15,
   "id": "4d50a6c8",
   "metadata": {},
   "outputs": [
    {
     "data": {
      "text/plain": [
       "1000000000000000000000000000000000000000000000000000000000000000000000000000000000000000000000000000000000000000000000000000000000000000000000000000000000000000000000000000000000000000000000000000000000000000000000000000000000000000000000000000000000000000000000000000000000000000000000000000000000000"
      ]
     },
     "execution_count": 15,
     "metadata": {},
     "output_type": "execute_result"
    }
   ],
   "source": [
    "a**b"
   ]
  },
  {
   "cell_type": "code",
   "execution_count": 16,
   "id": "bf8dd30c",
   "metadata": {},
   "outputs": [
    {
     "data": {
      "text/plain": [
       "100"
      ]
     },
     "execution_count": 16,
     "metadata": {},
     "output_type": "execute_result"
    }
   ],
   "source": [
    "+a"
   ]
  },
  {
   "cell_type": "code",
   "execution_count": 17,
   "id": "252908b7",
   "metadata": {},
   "outputs": [
    {
     "data": {
      "text/plain": [
       "-150"
      ]
     },
     "execution_count": 17,
     "metadata": {},
     "output_type": "execute_result"
    }
   ],
   "source": [
    "-b"
   ]
  },
  {
   "attachments": {},
   "cell_type": "markdown",
   "id": "b4599253",
   "metadata": {},
   "source": [
    "#  Sequence Type"
   ]
  },
  {
   "cell_type": "markdown",
   "id": "714183e4",
   "metadata": {},
   "source": [
    "# String"
   ]
  },
  {
   "cell_type": "code",
   "execution_count": 18,
   "id": "13b8a9bc",
   "metadata": {},
   "outputs": [
    {
     "name": "stdout",
     "output_type": "stream",
     "text": [
      "22\n"
     ]
    }
   ],
   "source": [
    "str = \"Hello my name is Ajay.\"\n",
    "print(len(str))"
   ]
  },
  {
   "cell_type": "markdown",
   "id": "73221bc3",
   "metadata": {},
   "source": [
    "# List"
   ]
  },
  {
   "cell_type": "code",
   "execution_count": 19,
   "id": "3fba3273",
   "metadata": {},
   "outputs": [
    {
     "name": "stdout",
     "output_type": "stream",
     "text": [
      "[1, 'apple', 'banana', 'cherry', 2]\n"
     ]
    }
   ],
   "source": [
    "thislist = list((1, \"apple\", \"banana\", \"cherry\", 2))\n",
    "print(thislist)"
   ]
  },
  {
   "cell_type": "code",
   "execution_count": 20,
   "id": "73fad9d8",
   "metadata": {},
   "outputs": [
    {
     "name": "stdout",
     "output_type": "stream",
     "text": [
      "<class 'list'>\n"
     ]
    }
   ],
   "source": [
    "print(type(thislist))"
   ]
  },
  {
   "cell_type": "code",
   "execution_count": 21,
   "id": "6d53dd91",
   "metadata": {},
   "outputs": [
    {
     "name": "stdout",
     "output_type": "stream",
     "text": [
      "['cherry', 2]\n"
     ]
    }
   ],
   "source": [
    "print(thislist[3:])"
   ]
  },
  {
   "cell_type": "code",
   "execution_count": 22,
   "id": "0a3eeabc",
   "metadata": {},
   "outputs": [
    {
     "name": "stdout",
     "output_type": "stream",
     "text": [
      "[1, 'apple']\n"
     ]
    }
   ],
   "source": [
    "print(thislist[0:2])"
   ]
  },
  {
   "cell_type": "code",
   "execution_count": 23,
   "id": "7fec68d5",
   "metadata": {},
   "outputs": [
    {
     "name": "stdout",
     "output_type": "stream",
     "text": [
      "[1, 'apple', 'banana', 'cherry', 2, 1, 'apple', 'banana', 'cherry', 2, 1, 'apple', 'banana', 'cherry', 2]\n"
     ]
    }
   ],
   "source": [
    "print(thislist*3)"
   ]
  },
  {
   "cell_type": "markdown",
   "id": "c40783ec",
   "metadata": {},
   "source": [
    "# Tuple"
   ]
  },
  {
   "cell_type": "code",
   "execution_count": 24,
   "id": "70f436f9",
   "metadata": {},
   "outputs": [
    {
     "name": "stdout",
     "output_type": "stream",
     "text": [
      "(1, 'apple', 'banana', 'cherry', 2)\n"
     ]
    }
   ],
   "source": [
    "thistuple = (1, \"apple\", \"banana\", \"cherry\", 2)\n",
    "print(thistuple)"
   ]
  },
  {
   "cell_type": "code",
   "execution_count": 25,
   "id": "0a8c57d8",
   "metadata": {},
   "outputs": [
    {
     "name": "stdout",
     "output_type": "stream",
     "text": [
      "('apple', 'banana', 'cherry', 2)\n"
     ]
    }
   ],
   "source": [
    "print(thistuple[1:])"
   ]
  },
  {
   "cell_type": "code",
   "execution_count": 26,
   "id": "2795f4a6",
   "metadata": {},
   "outputs": [
    {
     "name": "stdout",
     "output_type": "stream",
     "text": [
      "(1, 'apple')\n"
     ]
    }
   ],
   "source": [
    "print(thistuple[0:2])"
   ]
  },
  {
   "cell_type": "code",
   "execution_count": 27,
   "id": "ed3f0be8",
   "metadata": {},
   "outputs": [
    {
     "name": "stdout",
     "output_type": "stream",
     "text": [
      "(1, 'apple', 'banana', 'cherry', 2, 1, 'apple', 'banana', 'cherry', 2, 1, 'apple', 'banana', 'cherry', 2)\n"
     ]
    }
   ],
   "source": [
    "print(thistuple*3)"
   ]
  },
  {
   "cell_type": "markdown",
   "id": "753e2f5c",
   "metadata": {},
   "source": [
    "# Dictionary"
   ]
  },
  {
   "cell_type": "code",
   "execution_count": 28,
   "id": "badd63c2",
   "metadata": {},
   "outputs": [
    {
     "name": "stdout",
     "output_type": "stream",
     "text": [
      "\n",
      " Created Dictionary is:\n",
      "{1: 'Python', 2: 'Is', 3: 'Powerful'}\n"
     ]
    }
   ],
   "source": [
    "dict={1:\"Python\",2:\"Is\",3:\"Powerful\"}\n",
    "print(\"\\n Created Dictionary is:\")\n",
    "print(dict)"
   ]
  },
  {
   "cell_type": "code",
   "execution_count": 29,
   "id": "176a69cc",
   "metadata": {},
   "outputs": [
    {
     "name": "stdout",
     "output_type": "stream",
     "text": [
      "\n",
      " Updated Dictionary is:\n",
      "{1: 'Python', 3: 'Powerful'}\n"
     ]
    }
   ],
   "source": [
    "del dict[2]\n",
    "print(\"\\n Updated Dictionary is:\")\n",
    "print(dict)"
   ]
  },
  {
   "cell_type": "markdown",
   "id": "6db6b35a",
   "metadata": {},
   "source": [
    "# Sets"
   ]
  },
  {
   "cell_type": "code",
   "execution_count": 30,
   "id": "92123edc",
   "metadata": {},
   "outputs": [
    {
     "name": "stdout",
     "output_type": "stream",
     "text": [
      "{'Python', 'James'}\n"
     ]
    }
   ],
   "source": [
    "thisset={'James','Python'}\n",
    "print(thisset)"
   ]
  },
  {
   "attachments": {},
   "cell_type": "markdown",
   "id": "5e66d975",
   "metadata": {},
   "source": [
    "# Types of Conditional Statements"
   ]
  },
  {
   "cell_type": "markdown",
   "id": "8597eb19",
   "metadata": {},
   "source": [
    "# Simple if statement\n"
   ]
  },
  {
   "cell_type": "code",
   "execution_count": 31,
   "id": "591e4a2f",
   "metadata": {},
   "outputs": [
    {
     "name": "stdout",
     "output_type": "stream",
     "text": [
      "b is greater than a\n"
     ]
    }
   ],
   "source": [
    "a=33\n",
    "b=200\n",
    "if b>a:\n",
    "    print(\"b is greater than a\")"
   ]
  },
  {
   "cell_type": "markdown",
   "id": "38413388",
   "metadata": {},
   "source": [
    "# if – else statement"
   ]
  },
  {
   "cell_type": "code",
   "execution_count": 32,
   "id": "c31fc84a",
   "metadata": {},
   "outputs": [
    {
     "name": "stdout",
     "output_type": "stream",
     "text": [
      "b is not greater than a\n"
     ]
    }
   ],
   "source": [
    "a=200\n",
    "b=33\n",
    "if b>a:\n",
    "    print(\"b is greater than a\")\n",
    "else:\n",
    "    print(\"b is not greater than a\")"
   ]
  },
  {
   "cell_type": "markdown",
   "id": "2bd4ef52",
   "metadata": {},
   "source": [
    "# elif- statement"
   ]
  },
  {
   "cell_type": "code",
   "execution_count": 33,
   "id": "46b6a701",
   "metadata": {},
   "outputs": [
    {
     "name": "stdout",
     "output_type": "stream",
     "text": [
      "a and b are equal\n"
     ]
    }
   ],
   "source": [
    "a = 33\n",
    "b=33\n",
    "if b>a:\n",
    "    print(\"b is greater than a\")\n",
    "elif a==b:\n",
    "    print(\"a and b are equal\")"
   ]
  },
  {
   "cell_type": "markdown",
   "id": "b1ca9c9b",
   "metadata": {},
   "source": [
    "# While Loop"
   ]
  },
  {
   "cell_type": "code",
   "execution_count": 34,
   "id": "e92f2fc9",
   "metadata": {},
   "outputs": [
    {
     "name": "stdout",
     "output_type": "stream",
     "text": [
      "1\n",
      "2\n",
      "3\n",
      "4\n",
      "5\n"
     ]
    }
   ],
   "source": [
    "i=1\n",
    "while i<6:\n",
    "    print(i)\n",
    "    i+=1"
   ]
  },
  {
   "cell_type": "markdown",
   "id": "a971fbe4",
   "metadata": {},
   "source": [
    "# For Loop"
   ]
  },
  {
   "cell_type": "code",
   "execution_count": 35,
   "id": "33becb9c",
   "metadata": {},
   "outputs": [
    {
     "name": "stdout",
     "output_type": "stream",
     "text": [
      "Ajay\n",
      "Jayanth\n",
      "Devarsh\n",
      "SathyaSuresh\n",
      "Charan\n"
     ]
    }
   ],
   "source": [
    "names=[\"Ajay\",\"Jayanth\",\"Devarsh\",\"SathyaSuresh\",\"Charan\"]\n",
    "for x in names:\n",
    "    print(x)"
   ]
  },
  {
   "cell_type": "markdown",
   "id": "1d95fafc",
   "metadata": {},
   "source": [
    "# Built-in Functions"
   ]
  },
  {
   "cell_type": "code",
   "execution_count": 36,
   "id": "6445a085",
   "metadata": {},
   "outputs": [
    {
     "name": "stdout",
     "output_type": "stream",
     "text": [
      "['cherry', 'orange', 'kiwi']\n",
      "['orange', 'kiwi', 'melon']\n",
      "Yes, 'apple' is in the fruits list\n",
      "['apple', 'banana', 'watermelon', 'cherry']\n",
      "['apple', 'banana', 'cherry', 'orange']\n",
      "['apple', 'orange', 'banana', 'cherry']\n",
      "['apple', 'banana', 'cherry', 'mango', 'pineapple', 'papaya']\n",
      "['apple', 'cherry']\n",
      "['banana', 'cherry']\n",
      "[]\n"
     ]
    }
   ],
   "source": [
    "list1 = [\"apple\", \"banana\", \"cherry\", \"orange\", \"kiwi\", \"melon\", \"mango\"]\n",
    "print(list1[2:][:3])\n",
    "print(list1[3:][:3])\n",
    "list2= [\"apple\", \"banana\", \"cherry\"]\n",
    "if \"apple\" in list2:\n",
    "  print(\"Yes, 'apple' is in the fruits list\")\n",
    "list2.insert(2, 'watermelon')\n",
    "print(list2) \n",
    "list3= [\"apple\", \"banana\", \"cherry\"]\n",
    "list3.insert(3, 'orange')\n",
    "print(list3)\n",
    "list4= [\"apple\", \"banana\", \"cherry\"]\n",
    "list4.insert(1, 'orange')\n",
    "print(list4)\n",
    "list5= [\"apple\", \"banana\", \"cherry\"]\n",
    "more_list= ['mango', 'pineapple', 'papaya']\n",
    "list5.extend(more_list)\n",
    "print(list5)\n",
    "list6= [\"apple\", \"banana\", \"cherry\"]\n",
    "list6.remove('banana')\n",
    "print(list6)\n",
    "list7= [\"apple\", \"banana\", \"cherry\"]\n",
    "list7.remove('apple')\n",
    "print(list7)\n",
    "list7.clear()\n",
    "print(list7)"
   ]
  },
  {
   "cell_type": "markdown",
   "id": "9ae696fa",
   "metadata": {},
   "source": [
    "# Prime Number"
   ]
  },
  {
   "cell_type": "code",
   "execution_count": 37,
   "id": "80457f66",
   "metadata": {},
   "outputs": [
    {
     "name": "stdout",
     "output_type": "stream",
     "text": [
      "num is a prime number 2\n"
     ]
    }
   ],
   "source": [
    "num=2\n",
    "flag=False\n",
    "\n",
    "if num>1:\n",
    "    for i in range(2,num):\n",
    "        if num%i ==0:\n",
    "            flag=True\n",
    "        break\n",
    "if flag:\n",
    "    print(\"num is not a prime number\",num)\n",
    "else:\n",
    "    print(\"num is a prime number\",num)"
   ]
  },
  {
   "cell_type": "markdown",
   "id": "9df7d10d",
   "metadata": {},
   "source": [
    "# Factorial"
   ]
  },
  {
   "cell_type": "code",
   "execution_count": 38,
   "id": "b6d406a8",
   "metadata": {},
   "outputs": [
    {
     "name": "stdout",
     "output_type": "stream",
     "text": [
      "The factorial of 56 is 710998587804863451854045647463724949736497978881168458687447040000000000000\n"
     ]
    }
   ],
   "source": [
    "num = 56\n",
    "factorial = 1\n",
    "if num < 0:\n",
    "   print(\"Sorry, factorial does not exist for negative numbers\")\n",
    "elif num == 0:\n",
    "   print(\"The factorial of 0 is 1\")\n",
    "else:\n",
    "   for i in range(1,num + 1):\n",
    "       factorial = factorial*i\n",
    "   print(\"The factorial of\",num,\"is\",factorial)"
   ]
  },
  {
   "cell_type": "markdown",
   "id": "51336b78",
   "metadata": {},
   "source": [
    "# nPr"
   ]
  },
  {
   "cell_type": "code",
   "execution_count": 39,
   "id": "9e761282",
   "metadata": {},
   "outputs": [
    {
     "name": "stdout",
     "output_type": "stream",
     "text": [
      "67 P 2 = 4422\n"
     ]
    }
   ],
   "source": [
    "import math\n",
    "def fact(n):\n",
    "    if (n <= 1):\n",
    "        return 1\n",
    "\n",
    "    return n * fact(n - 1)\n",
    "\n",
    "def nPr(n, r):\n",
    "\n",
    "    return math.floor(fact(n) /\n",
    "                fact(n - r))\n",
    "\n",
    "n = 67\n",
    "r = 2\n",
    "\n",
    "print(n, \"P\", r, \"=\", nPr(n, r))"
   ]
  },
  {
   "cell_type": "markdown",
   "id": "ce8e2fce",
   "metadata": {},
   "source": [
    "# Sum of First and Last digit"
   ]
  },
  {
   "cell_type": "code",
   "execution_count": 40,
   "id": "d0a86c24",
   "metadata": {},
   "outputs": [
    {
     "name": "stdout",
     "output_type": "stream",
     "text": [
      "Enter a Number: \n",
      "17643\n",
      "\n",
      "Sum of first and last digit = 4\n"
     ]
    }
   ],
   "source": [
    "print(\"Enter a Number: \")\n",
    "num = int(input())\n",
    "\n",
    "count = 0\n",
    "while num!=0:\n",
    "    if count==0:\n",
    "        last = num%10\n",
    "        count = count+1\n",
    "    rem = num%10\n",
    "    num = int(num/10)\n",
    "\n",
    "sum = rem + last\n",
    "print(\"\\nSum of first and last digit =\", sum)"
   ]
  },
  {
   "cell_type": "markdown",
   "id": "d84c6c97",
   "metadata": {},
   "source": [
    "# Palindrome"
   ]
  },
  {
   "cell_type": "code",
   "execution_count": 41,
   "id": "dc74c214",
   "metadata": {},
   "outputs": [
    {
     "name": "stdout",
     "output_type": "stream",
     "text": [
      "Enter number:121\n",
      "The number is a palindrome!\n"
     ]
    }
   ],
   "source": [
    "n=int(input(\"Enter number:\"))\n",
    "temp=n\n",
    "rev=0\n",
    "while(n>0):\n",
    "    dig=n%10\n",
    "    rev=rev*10+dig\n",
    "    n=n//10\n",
    "if(temp==rev):\n",
    "    print(\"The number is a palindrome!\")\n",
    "else:\n",
    "    print(\"The number isn't a palindrome!\")"
   ]
  },
  {
   "cell_type": "code",
   "execution_count": 42,
   "id": "370cc5b4",
   "metadata": {},
   "outputs": [
    {
     "name": "stdout",
     "output_type": "stream",
     "text": [
      "Enter number:69\n",
      "The number isn't a palindrome!\n"
     ]
    }
   ],
   "source": [
    "n=int(input(\"Enter number:\"))\n",
    "temp=n\n",
    "rev=0\n",
    "while(n>0):\n",
    "    dig=n%10\n",
    "    rev=rev*10+dig\n",
    "    n=n//10\n",
    "if(temp==rev):\n",
    "    print(\"The number is a palindrome!\")\n",
    "else:\n",
    "    print(\"The number isn't a palindrome!\")"
   ]
  },
  {
   "cell_type": "markdown",
   "id": "8f092170",
   "metadata": {},
   "source": [
    "# Armstrong"
   ]
  },
  {
   "cell_type": "code",
   "execution_count": 43,
   "id": "fd723f71",
   "metadata": {},
   "outputs": [
    {
     "name": "stdout",
     "output_type": "stream",
     "text": [
      "enter a number:153\n",
      "153 is an Armstrong number\n"
     ]
    }
   ],
   "source": [
    "num = int(input(\"enter a number:\"))\n",
    "sum = 0\n",
    "temp = num\n",
    "while temp > 0:\n",
    "   digit = temp % 10\n",
    "   sum += digit ** 3\n",
    "   temp //= 10\n",
    "\n",
    "\n",
    "if num == sum:\n",
    "   print(num,\"is an Armstrong number\")\n",
    "else:\n",
    "   print(num,\"is not an Armstrong number\")"
   ]
  },
  {
   "cell_type": "code",
   "execution_count": 44,
   "id": "0a98a985",
   "metadata": {},
   "outputs": [
    {
     "name": "stdout",
     "output_type": "stream",
     "text": [
      "enter a number:69\n",
      "69 is not an Armstrong number\n"
     ]
    }
   ],
   "source": [
    "num = int(input(\"enter a number:\"))\n",
    "sum = 0\n",
    "temp = num\n",
    "while temp > 0:\n",
    "   digit = temp % 10\n",
    "   sum += digit ** 3\n",
    "   temp //= 10\n",
    "\n",
    "\n",
    "if num == sum:\n",
    "   print(num,\"is an Armstrong number\")\n",
    "else:\n",
    "   print(num,\"is not an Armstrong number\")"
   ]
  },
  {
   "cell_type": "markdown",
   "id": "bdb3efae",
   "metadata": {},
   "source": [
    "# NUMPY Library"
   ]
  },
  {
   "cell_type": "code",
   "execution_count": 45,
   "id": "d7f6ef17",
   "metadata": {},
   "outputs": [],
   "source": [
    "import numpy as np"
   ]
  },
  {
   "cell_type": "code",
   "execution_count": 46,
   "id": "991ad371",
   "metadata": {},
   "outputs": [
    {
     "name": "stdout",
     "output_type": "stream",
     "text": [
      "[[1 2 3]\n",
      " [4 5 6]]\n"
     ]
    }
   ],
   "source": [
    "li=np.array([[1,2,3],[4,5,6]])\n",
    "print(li)"
   ]
  },
  {
   "cell_type": "code",
   "execution_count": 47,
   "id": "099f30fb",
   "metadata": {},
   "outputs": [
    {
     "name": "stdout",
     "output_type": "stream",
     "text": [
      "(2, 3)\n"
     ]
    }
   ],
   "source": [
    "print(li.shape)"
   ]
  },
  {
   "cell_type": "code",
   "execution_count": 48,
   "id": "cad4fc4b",
   "metadata": {},
   "outputs": [],
   "source": [
    "# Multi Dimentional Arrays"
   ]
  },
  {
   "cell_type": "code",
   "execution_count": 49,
   "id": "bc968f01",
   "metadata": {},
   "outputs": [
    {
     "name": "stdout",
     "output_type": "stream",
     "text": [
      "[[1 2 3 7]\n",
      " [4 5 6 4]\n",
      " [8 5 6 4]]\n"
     ]
    }
   ],
   "source": [
    "a=np.array([1,2,3,7])\n",
    "b=np.array([4,5,6,4])\n",
    "c=np.array([8,5,6,4])\n",
    "abc=np.array([a,b,c])\n",
    "print(abc)"
   ]
  },
  {
   "cell_type": "code",
   "execution_count": 50,
   "id": "80ab6031",
   "metadata": {},
   "outputs": [
    {
     "name": "stdout",
     "output_type": "stream",
     "text": [
      "(3, 4)\n"
     ]
    }
   ],
   "source": [
    "print(abc.shape)"
   ]
  },
  {
   "cell_type": "code",
   "execution_count": 51,
   "id": "3fd99abd",
   "metadata": {},
   "outputs": [
    {
     "name": "stdout",
     "output_type": "stream",
     "text": [
      "12\n"
     ]
    }
   ],
   "source": [
    "print(abc.size)"
   ]
  },
  {
   "cell_type": "code",
   "execution_count": 52,
   "id": "7e09cc30",
   "metadata": {},
   "outputs": [],
   "source": [
    "#Array reshaping and indexing"
   ]
  },
  {
   "cell_type": "code",
   "execution_count": 53,
   "id": "bb34e22b",
   "metadata": {},
   "outputs": [
    {
     "name": "stdout",
     "output_type": "stream",
     "text": [
      "[[1 2 3 7 4 5]\n",
      " [6 4 8 5 6 4]]\n"
     ]
    }
   ],
   "source": [
    "n=abc.reshape(2,6)\n",
    "print(n)"
   ]
  },
  {
   "cell_type": "code",
   "execution_count": 54,
   "id": "a6631b5f",
   "metadata": {},
   "outputs": [
    {
     "name": "stdout",
     "output_type": "stream",
     "text": [
      "(2, 6)\n"
     ]
    }
   ],
   "source": [
    "print(n.shape)"
   ]
  },
  {
   "cell_type": "code",
   "execution_count": 55,
   "id": "7a9a17e3",
   "metadata": {},
   "outputs": [
    {
     "name": "stdout",
     "output_type": "stream",
     "text": [
      "1\n"
     ]
    }
   ],
   "source": [
    "print(abc[0,0])"
   ]
  },
  {
   "cell_type": "code",
   "execution_count": 56,
   "id": "d3a3d2db",
   "metadata": {},
   "outputs": [],
   "source": [
    "#Array of Zeros"
   ]
  },
  {
   "cell_type": "code",
   "execution_count": 57,
   "id": "0ea4d909",
   "metadata": {},
   "outputs": [
    {
     "name": "stdout",
     "output_type": "stream",
     "text": [
      "[[0. 0. 0.]\n",
      " [0. 0. 0.]\n",
      " [0. 0. 0.]]\n"
     ]
    }
   ],
   "source": [
    "zeroarray=np.zeros((3,3))\n",
    "print(zeroarray)"
   ]
  },
  {
   "cell_type": "code",
   "execution_count": 58,
   "id": "16f76a9b",
   "metadata": {},
   "outputs": [],
   "source": [
    "#Slicing"
   ]
  },
  {
   "cell_type": "code",
   "execution_count": 59,
   "id": "7d29af8d",
   "metadata": {},
   "outputs": [
    {
     "name": "stdout",
     "output_type": "stream",
     "text": [
      "[[2 3]\n",
      " [5 6]\n",
      " [5 6]]\n"
     ]
    }
   ],
   "source": [
    "print(abc[:,1:3:1])"
   ]
  },
  {
   "cell_type": "code",
   "execution_count": 60,
   "id": "bf084884",
   "metadata": {},
   "outputs": [],
   "source": [
    "#Boolean Functions"
   ]
  },
  {
   "cell_type": "code",
   "execution_count": 61,
   "id": "860621c5",
   "metadata": {},
   "outputs": [
    {
     "name": "stdout",
     "output_type": "stream",
     "text": [
      "[[ True  True False False]\n",
      " [False False False False]\n",
      " [False False False False]]\n"
     ]
    }
   ],
   "source": [
    "ajay=abc<3\n",
    "print(ajay)"
   ]
  },
  {
   "cell_type": "code",
   "execution_count": 62,
   "id": "ae793c19",
   "metadata": {},
   "outputs": [],
   "source": [
    "#Where Method"
   ]
  },
  {
   "cell_type": "code",
   "execution_count": 63,
   "id": "ec310bba",
   "metadata": {},
   "outputs": [
    {
     "name": "stdout",
     "output_type": "stream",
     "text": [
      "[[5 5 5 7]\n",
      " [5 5 6 5]\n",
      " [8 5 6 5]]\n"
     ]
    }
   ],
   "source": [
    "sat=np.where(abc>5,abc,5)\n",
    "print(sat)"
   ]
  },
  {
   "cell_type": "code",
   "execution_count": 64,
   "id": "15f8d4b3",
   "metadata": {},
   "outputs": [
    {
     "name": "stdout",
     "output_type": "stream",
     "text": [
      "13\n"
     ]
    }
   ],
   "source": [
    "print(a.sum())"
   ]
  },
  {
   "cell_type": "code",
   "execution_count": 65,
   "id": "29883647",
   "metadata": {},
   "outputs": [
    {
     "name": "stdout",
     "output_type": "stream",
     "text": [
      "[ 1  3  6 13]\n"
     ]
    }
   ],
   "source": [
    "print(a.cumsum())"
   ]
  },
  {
   "cell_type": "code",
   "execution_count": 66,
   "id": "95339e9c",
   "metadata": {},
   "outputs": [
    {
     "name": "stdout",
     "output_type": "stream",
     "text": [
      "42\n"
     ]
    }
   ],
   "source": [
    "print(a.prod())"
   ]
  },
  {
   "cell_type": "code",
   "execution_count": 67,
   "id": "a333fc81",
   "metadata": {},
   "outputs": [
    {
     "name": "stdout",
     "output_type": "stream",
     "text": [
      "[ 1  2  6 42]\n"
     ]
    }
   ],
   "source": [
    "print(a.cumprod())"
   ]
  },
  {
   "cell_type": "code",
   "execution_count": 68,
   "id": "e11f952c",
   "metadata": {},
   "outputs": [],
   "source": [
    "#two array math operations"
   ]
  },
  {
   "cell_type": "code",
   "execution_count": 69,
   "id": "b9f428ed",
   "metadata": {},
   "outputs": [
    {
     "name": "stdout",
     "output_type": "stream",
     "text": [
      "[ 5  7  9 11]\n",
      "[-3 -3 -3  3]\n",
      "[ 4 10 18 28]\n",
      "[0.25 0.4  0.5  1.75]\n"
     ]
    }
   ],
   "source": [
    "print(a+b)\n",
    "print(a-b)\n",
    "print(a*b)\n",
    "print(a/b)"
   ]
  },
  {
   "cell_type": "code",
   "execution_count": null,
   "id": "a1733ad5",
   "metadata": {},
   "outputs": [],
   "source": []
  }
 ],
 "metadata": {
  "kernelspec": {
   "display_name": "Python 3",
   "language": "python",
   "name": "python3"
  },
  "language_info": {
   "codemirror_mode": {
    "name": "ipython",
    "version": 3
   },
   "file_extension": ".py",
   "mimetype": "text/x-python",
   "name": "python",
   "nbconvert_exporter": "python",
   "pygments_lexer": "ipython3",
   "version": "3.8.8"
  }
 },
 "nbformat": 4,
 "nbformat_minor": 5
}
